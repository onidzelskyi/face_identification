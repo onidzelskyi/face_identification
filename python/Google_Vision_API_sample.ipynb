{
 "cells": [
  {
   "cell_type": "code",
   "execution_count": null,
   "metadata": {
    "collapsed": false
   },
   "outputs": [],
   "source": [
    "from googleapiclient import discovery\n",
    "from oauth2client.client import GoogleCredentials\n",
    "\n",
    "from PIL import Image, ImageDraw\n",
    "\n",
    "import numpy as np\n",
    "import base64\n",
    "import httplib2\n",
    "import os\n",
    "\n",
    "# matplot\n",
    "from matplotlib import pyplot as plt\n",
    "%matplotlib inline"
   ]
  },
  {
   "cell_type": "code",
   "execution_count": null,
   "metadata": {
    "collapsed": true
   },
   "outputs": [],
   "source": [
    "# Google' variables and environments\n",
    "DISCOVERY_URL='https://{api}.googleapis.com/$discovery/rest?version={apiVersion}'\n",
    "os.environ[\"GOOGLE_APPLICATION_CREDENTIALS\"] = '{}/demo/google_cloud_vision.json'.format(os.getcwd())\n",
    "\n",
    "# variables\n",
    "FACE_RESOLUTION = 100 # Face' size 100 by 100 pixels"
   ]
  },
  {
   "cell_type": "code",
   "execution_count": null,
   "metadata": {
    "collapsed": false
   },
   "outputs": [],
   "source": [
    "def get_vision_service():\n",
    "    credentials = GoogleCredentials.get_application_default()\n",
    "    return discovery.build('vision', 'v1', credentials=credentials,\n",
    "                           discoveryServiceUrl=DISCOVERY_URL)\n",
    "\n",
    "\n",
    "def detect_face(face_file, max_results=10):\n",
    "    \"\"\"Uses the Vision API to detect faces in the given file.\n",
    "\n",
    "    Args:\n",
    "        face_file: A file-like object containing an image with faces.\n",
    "\n",
    "    Returns:\n",
    "        An array of dicts with information about the faces in the picture.\n",
    "    \"\"\"\n",
    "    image_content = face_file.read()\n",
    "    batch_request = [{\n",
    "        'image': {\n",
    "            'content': base64.b64encode(image_content).decode('UTF-8')\n",
    "            },\n",
    "        'features': [{\n",
    "            'type': 'FACE_DETECTION',\n",
    "            'maxResults': max_results,\n",
    "            }]\n",
    "        }]\n",
    "\n",
    "    service = get_vision_service()\n",
    "    request = service.images().annotate(body={\n",
    "        'requests': batch_request,\n",
    "        })\n",
    "    response = request.execute()\n",
    "\n",
    "    if not response['responses'][0]:\n",
    "        raise ValueError('No faces were detected in {}.'.format(face_file))\n",
    "\n",
    "    return response['responses'][0]['faceAnnotations'], len(response['responses'][0]['faceAnnotations'])\n",
    "\n",
    "\n",
    "def highlight_faces(image, faces, output_filename=None):\n",
    "    \"\"\"Draws a polygon around the faces, then saves to output_filename.\n",
    "\n",
    "    Args:\n",
    "      image: a file containing the image with the faces.\n",
    "      faces: a list of faces found in the file. This should be in the format\n",
    "          returned by the Vision API.\n",
    "      output_filename: the name of the image file to be created, where the faces\n",
    "          have polygons drawn around them.\n",
    "    \"\"\"\n",
    "    im = Image.open(image)\n",
    "    draw = ImageDraw.Draw(im)\n",
    "\n",
    "    for face in faces:\n",
    "        box = [(v.get('x', 0.0), v.get('y', 0.0)) for v in face['fdBoundingPoly']['vertices']]\n",
    "        draw.line(box + [box[0]], width=15, fill='#00ff00')\n",
    "\n",
    "    del draw\n",
    "    \n",
    "    if output_filename:\n",
    "        im.save(output_filename)\n",
    "\n",
    "    return im\n",
    "    \n",
    "\n",
    "def extract_faces(image, faces):\n",
    "    \"\"\"Extract faces from image.\n",
    "\n",
    "    Args:\n",
    "      image: a file containing the image with the faces.\n",
    "      faces: a list of faces found in the file. This should be in the format\n",
    "          returned by the Vision API.\n",
    "    Return array of faces\n",
    "    \"\"\"\n",
    "    arr = np.zeros()\n",
    "    I = Image.open(image)\n",
    "\n",
    "    for face in faces:\n",
    "        box = [(v.get('x', 0.0), v.get('y', 0.0)) for v in face['fdBoundingPoly']['vertices']]\n",
    "        Arr.line(box + [box[0]], width=5, fill='#00ff00')\n",
    "    \n",
    "    return arr    "
   ]
  },
  {
   "cell_type": "code",
   "execution_count": null,
   "metadata": {
    "collapsed": false
   },
   "outputs": [],
   "source": [
    "group = '{}/../test/g6.jpg'.format(os.getcwd())\n",
    "single = '{}/../test/s6.jpg'.format(os.getcwd())"
   ]
  },
  {
   "cell_type": "code",
   "execution_count": null,
   "metadata": {
    "collapsed": false
   },
   "outputs": [],
   "source": [
    "# plot group image\n",
    "fig = plt.figure(figsize=(15,15))\n",
    "plt.subplot(121)\n",
    "plt.imshow(Image.open(group))    \n",
    "plt.axis(\"off\")\n",
    "\n",
    "# plot single image\n",
    "plt.subplot(122)\n",
    "plt.imshow(Image.open(single))    \n",
    "plt.axis(\"off\")"
   ]
  },
  {
   "cell_type": "code",
   "execution_count": null,
   "metadata": {
    "collapsed": false
   },
   "outputs": [],
   "source": [
    "result = dict(group=dict(image_file=group, original_image=None, labeled_image=None, faces=None, total_faces=None, faces_matrix=None),\n",
    "              single=dict(image_file=single, original_image=None, labeled_image=None, faces=None, total_faces=None, faces_matrix=None))\n",
    "\n",
    "for item in result:\n",
    "    with open(result[item]['image_file'], 'rb') as image:\n",
    "        result[item]['original_image'] = Image.open(result[item]['image_file'])\n",
    "        result[item]['faces'], result[item]['total_faces'] = detect_face(image)\n",
    "        \n",
    "        print('{}: found {} face{}'.format(item, result[item]['total_faces'], '' if result[item]['total_faces'] == 1 else 's'))\n",
    "\n",
    "        # Reset the file pointer, so we can read the file again\n",
    "        image.seek(0)\n",
    "        \n",
    "        result[item]['labeled_image'] = highlight_faces(image, result[item]['faces'])"
   ]
  },
  {
   "cell_type": "code",
   "execution_count": null,
   "metadata": {
    "collapsed": false
   },
   "outputs": [],
   "source": [
    "# plot group image\n",
    "fig = plt.figure(figsize=(15,15))\n",
    "plt.subplot(121)\n",
    "plt.imshow(result['group']['labeled_image'])    \n",
    "plt.axis(\"off\")\n",
    "\n",
    "# plot single image\n",
    "plt.subplot(122)\n",
    "plt.imshow(result['single']['labeled_image'])    \n",
    "plt.axis(\"off\")"
   ]
  },
  {
   "cell_type": "markdown",
   "metadata": {},
   "source": [
    "Show detected faces\n",
    "=="
   ]
  },
  {
   "cell_type": "code",
   "execution_count": null,
   "metadata": {
    "collapsed": false
   },
   "outputs": [],
   "source": [
    "for item in result:\n",
    "    \n",
    "    fig = plt.figure(figsize=(15,5))\n",
    "\n",
    "    for i, face in enumerate(result[item]['faces']):\n",
    "        pos = i+1\n",
    "        plt.subplot(1, result[item]['total_faces'], pos)\n",
    "        vertices = face['fdBoundingPoly']['vertices']\n",
    "        box = (vertices[0]['x'], vertices[1]['y'], vertices[1]['x'], vertices[2]['y'],)        \n",
    "        plt.imshow(result[item]['original_image'].crop(box))    \n",
    "        plt.axis(\"off\")"
   ]
  },
  {
   "cell_type": "markdown",
   "metadata": {},
   "source": [
    "Create matrix\n",
    "=="
   ]
  },
  {
   "cell_type": "code",
   "execution_count": null,
   "metadata": {
    "collapsed": false
   },
   "outputs": [],
   "source": [
    "'''Transform faces to matrices.'''\n",
    "\n",
    "for item in result:\n",
    "    result[item]['faces_matrix'] = np.zeros(shape=(result[item]['total_faces'], FACE_RESOLUTION ** 2))\n",
    "    \n",
    "    fig = plt.figure(figsize=(15,15))\n",
    "\n",
    "    for i in range(result[item]['total_faces']):\n",
    "        vertices = result[item]['faces'][i]['fdBoundingPoly']['vertices']\n",
    "        \n",
    "        box = (vertices[0]['x'], vertices[1]['y'], vertices[1]['x'], vertices[2]['y'],)\n",
    "        rotated_box = (vertices[0]['x']-50, vertices[1]['y']-50, vertices[1]['x']+50, vertices[2]['y']+50,)\n",
    "        original_face = result[item]['original_image'].crop(rotated_box)\n",
    "        \n",
    "        pos = i*3+1\n",
    "        plt.subplot(result[item]['total_faces'], 3, pos)\n",
    "        plt.imshow(original_face)    \n",
    "        plt.axis(\"off\")\n",
    "        \n",
    "        rotated_face = original_face.rotate(result[item]['faces'][i]['rollAngle'])\n",
    "        \n",
    "        cropped_face = rotated_face.crop((50, 50, box[2]-box[0]+50, box[3]-box[1]+50,))\n",
    "\n",
    "        pos = i*3+2\n",
    "        plt.subplot(result[item]['total_faces'], 3, pos)\n",
    "        plt.imshow(cropped_face)    \n",
    "        plt.axis(\"off\")\n",
    "        \n",
    "        scaled_face = cropped_face.resize(([FACE_RESOLUTION, FACE_RESOLUTION]))\n",
    "        \n",
    "        pos = i*3+3\n",
    "        plt.subplot(result[item]['total_faces'], 3, pos)\n",
    "        plt.imshow(scaled_face)    \n",
    "        plt.axis(\"off\")\n",
    "        \n",
    "        converted_face = scaled_face.convert('L')\n",
    "        result[item]['faces_matrix'][i] = np.asmatrix(converted_face).A1"
   ]
  },
  {
   "cell_type": "markdown",
   "metadata": {},
   "source": [
    "Calc disimilarity matrix\n",
    "=="
   ]
  },
  {
   "cell_type": "code",
   "execution_count": null,
   "metadata": {
    "collapsed": false
   },
   "outputs": [],
   "source": [
    "predicted = np.argmin(np.linalg.norm(result['group']['faces_matrix']-result['single']['faces_matrix'], axis=1))"
   ]
  },
  {
   "cell_type": "markdown",
   "metadata": {},
   "source": [
    "Show result\n",
    "=="
   ]
  },
  {
   "cell_type": "code",
   "execution_count": null,
   "metadata": {
    "collapsed": false
   },
   "outputs": [],
   "source": [
    "draw = ImageDraw.Draw(result['group']['original_image'])\n",
    "box = [(v.get('x', 0.0), v.get('y', 0.0)) for v in result['group']['faces'][predicted]['fdBoundingPoly']['vertices']]\n",
    "draw.line(box + [box[0]], width=5, fill='#00ff00')\n",
    "del draw\n",
    "    \n",
    "# plot group image\n",
    "fig = plt.figure(figsize=(15,15))\n",
    "plt.subplot(111)\n",
    "plt.imshow(result['group']['original_image'])    \n",
    "plt.axis(\"off\")"
   ]
  },
  {
   "cell_type": "markdown",
   "metadata": {},
   "source": [
    "Link to gist\n",
    "==\n",
    "\n",
    "https://gist.github.com/onidzelskyi/2878f78d499da7d6a5c4e0b2b2cd8111\n",
    "\n",
    "Requirements\n",
    "==\n",
    "\n",
    "```bash\n",
    "sudo apt-get install python-pip libtiff5-dev libjpeg8-dev zlib1g-dev libfreetype6-dev liblcms2-dev libwebp-dev tcl8.6-dev tk8.6-dev python-tk python-matplotlib\n",
    "\n",
    "sudo pip install google-api-python-client==1.5.0 Pillow==3.1.1 numpy\n",
    "```"
   ]
  },
  {
   "cell_type": "code",
   "execution_count": null,
   "metadata": {
    "collapsed": true
   },
   "outputs": [],
   "source": []
  }
 ],
 "metadata": {
  "kernelspec": {
   "display_name": "Python 2",
   "language": "python",
   "name": "python2"
  },
  "language_info": {
   "codemirror_mode": {
    "name": "ipython",
    "version": 2
   },
   "file_extension": ".py",
   "mimetype": "text/x-python",
   "name": "python",
   "nbconvert_exporter": "python",
   "pygments_lexer": "ipython2",
   "version": "2.7.12"
  }
 },
 "nbformat": 4,
 "nbformat_minor": 0
}
