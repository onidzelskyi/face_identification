{
 "cells": [
  {
   "cell_type": "code",
   "execution_count": null,
   "metadata": {
    "collapsed": false
   },
   "outputs": [],
   "source": [
    "# import modules\n",
    "from utils import FaceRecognition"
   ]
  },
  {
   "cell_type": "code",
   "execution_count": null,
   "metadata": {
    "collapsed": false
   },
   "outputs": [],
   "source": [
    "# Enter test images file names\n",
    "group_img = raw_input(\"Please, enter group image file name: \")\n",
    "single_img = raw_input(\"Please, enter single image file name: \")\n",
    "\n",
    "# or by default\n",
    "if group_img == \"\": group_img = \"../test/g3.jpg\"\n",
    "if single_img == \"\": single_img = \"../test/s3.jpg\"    "
   ]
  },
  {
   "cell_type": "code",
   "execution_count": null,
   "metadata": {
    "collapsed": true
   },
   "outputs": [],
   "source": [
    "# Read images files\n",
    "# G - image of group of people\n",
    "# S - image of a single person\n",
    "G = cv2.imread(group_img)\n",
    "S = cv2.imread(single_img)"
   ]
  },
  {
   "cell_type": "code",
   "execution_count": null,
   "metadata": {
    "collapsed": false
   },
   "outputs": [],
   "source": [
    "# Plot RGB images\n",
    "# plot group image\n",
    "fig = plt.figure(figsize=(15,15))\n",
    "plt.subplot(121)\n",
    "plt.imshow(cv2.cvtColor(G, cv2.COLOR_BGR2RGB))    \n",
    "plt.axis(\"off\")\n",
    "\n",
    "# plot single image\n",
    "plt.subplot(122)\n",
    "plt.imshow(cv2.cvtColor(S, cv2.COLOR_BGR2RGB))    \n",
    "plt.axis(\"off\")"
   ]
  },
  {
   "cell_type": "code",
   "execution_count": null,
   "metadata": {
    "collapsed": false
   },
   "outputs": [],
   "source": [
    "# Convert original RGB images to grayscale\n",
    "G_gray = cv2.cvtColor(G, cv2.COLOR_BGR2GRAY)\n",
    "S_gray = cv2.cvtColor(S, cv2.COLOR_BGR2GRAY)"
   ]
  },
  {
   "cell_type": "code",
   "execution_count": null,
   "metadata": {
    "collapsed": false
   },
   "outputs": [],
   "source": [
    "# Plot grayscale images\n",
    "# plot group image\n",
    "fig = plt.figure(figsize=(15,15))\n",
    "plt.subplot(121)\n",
    "plt.imshow(cv2.cvtColor(G_gray, cv2.COLOR_GRAY2RGB))    \n",
    "plt.axis(\"off\")\n",
    "\n",
    "# plot single image\n",
    "plt.subplot(122)\n",
    "plt.imshow(cv2.cvtColor(S_gray, cv2.COLOR_GRAY2RGB))    \n",
    "plt.axis(\"off\")"
   ]
  },
  {
   "cell_type": "code",
   "execution_count": null,
   "metadata": {
    "collapsed": false
   },
   "outputs": [],
   "source": [
    "fr = FaceRecognition()\n",
    "fr.process(group_img, single_img)"
   ]
  },
  {
   "cell_type": "code",
   "execution_count": null,
   "metadata": {
    "collapsed": false
   },
   "outputs": [],
   "source": [
    "# plot group image\n",
    "fig = plt.figure(figsize=(15,15))\n",
    "plt.subplot(121)\n",
    "plt.imshow(cv2.cvtColor(G, cv2.COLOR_BGR2RGB))    \n",
    "plt.axis(\"off\")\n",
    "\n",
    "# plot single image\n",
    "plt.subplot(122)\n",
    "plt.imshow(cv2.cvtColor(S, cv2.COLOR_BGR2RGB))    \n",
    "plt.axis(\"off\")"
   ]
  },
  {
   "cell_type": "code",
   "execution_count": null,
   "metadata": {
    "collapsed": false
   },
   "outputs": [],
   "source": [
    "# Mean face size\n",
    "x_mean = int(math.floor(G_faces[:,3].mean()))"
   ]
  },
  {
   "cell_type": "code",
   "execution_count": null,
   "metadata": {
    "collapsed": false
   },
   "outputs": [],
   "source": [
    "# Create matrix \n",
    "X = np.zeros(shape=(G_faces.shape[0], x_mean**2))\n",
    "X_test = np.zeros(shape=(S_faces.shape[0], x_mean**2))"
   ]
  },
  {
   "cell_type": "markdown",
   "metadata": {},
   "source": [
    "<img src=\"rotation_matrix.png\"/>\n",
    "or\n",
    "<img src=\"affine_transformation_matrix.png\"/>"
   ]
  },
  {
   "cell_type": "code",
   "execution_count": null,
   "metadata": {
    "collapsed": false
   },
   "outputs": [],
   "source": [
    "# Align group faces\n",
    "for i,(x,y,w,h) in enumerate(G_faces):\n",
    "    # Extract face\n",
    "    img = G_gray[y:y+h, x:x+w]\n",
    "\n",
    "    # Align faces\n",
    "    if apply_align_face:\n",
    "        img = align_face(G_gray, (x,y,w,h), i, G_faces.shape[0])\n",
    "\n",
    "    # resize image\n",
    "    res = cv2.resize(img, (x_mean, x_mean), interpolation=cv2.INTER_CUBIC)\n",
    "\n",
    "    # LBP\n",
    "    radius = 3\n",
    "    n_points = 24\n",
    "    if apply_lpb: \n",
    "        from skimage.feature import local_binary_pattern\n",
    "        res = local_binary_pattern(res, n_points, radius, method=\"uniform\")\n",
    "\n",
    "    # Unfold matrix to vector\n",
    "    res1 = res.reshape(1, res.shape[0]*res.shape[1])\n",
    "\n",
    "    # Add image vector to the matrix\n",
    "    X[i,:] = res1"
   ]
  },
  {
   "cell_type": "code",
   "execution_count": null,
   "metadata": {
    "collapsed": false
   },
   "outputs": [],
   "source": [
    "# Align single face\n",
    "for i,(x,y,w,h) in enumerate(S_faces):\n",
    "    # Extract face\n",
    "    img = S_gray[y:y+h, x:x+w]\n",
    "\n",
    "    # Align faces\n",
    "    if apply_align_face:\n",
    "        img = align_face(S_gray, (x,y,w,h), i, S_faces.shape[0])\n",
    "    \n",
    "    # resize image\n",
    "    res = cv2.resize(img, (x_mean, x_mean), interpolation=cv2.INTER_CUBIC)\n",
    "\n",
    "    # LBP\n",
    "    if apply_lpb: \n",
    "        from skimage.feature import local_binary_pattern\n",
    "        res = local_binary_pattern(res, n_points, radius, method=\"uniform\")\n",
    "\n",
    "    # Unfold matrix to vector\n",
    "    res1 = res.reshape(1, res.shape[0]*res.shape[1])\n",
    "\n",
    "    # Add image vector to the matrix\n",
    "    X_test[i,:] = res1"
   ]
  },
  {
   "cell_type": "code",
   "execution_count": null,
   "metadata": {
    "collapsed": false
   },
   "outputs": [],
   "source": [
    "# Face indentification\n",
    "G = cv2.imread(group_img)\n",
    "S = cv2.imread(single_img)\n",
    "for i, I in enumerate(X_test):\n",
    "    D = X - I\n",
    "    N = np.linalg.norm(D**2, axis=-1)\n",
    "    idx = np.argmin(N)\n",
    "    (x,y,w,h) = G_faces[idx]\n",
    "    (xs,ys,ws,hs) = S_faces[i]\n",
    "    cv2.rectangle(G,(x,y),(x+w,y+h),(0,0,255),4)\n",
    "    cv2.rectangle(S,(xs,ys),(xs+ws,ys+hs),(0,0,255),4)\n",
    "\n",
    "# plot image\n",
    "fig = plt.figure(figsize=(15,15))\n",
    "plt.axis(\"off\")\n",
    "plt.imshow(cv2.cvtColor(G, cv2.COLOR_BGR2RGB))    "
   ]
  },
  {
   "cell_type": "code",
   "execution_count": null,
   "metadata": {
    "collapsed": false
   },
   "outputs": [],
   "source": [
    "print X[0].shape\n",
    "print I.shape\n",
    "print N\n",
    "print img[0,:10]"
   ]
  },
  {
   "cell_type": "code",
   "execution_count": null,
   "metadata": {
    "collapsed": false
   },
   "outputs": [],
   "source": [
    "import math\n",
    "for i, val in enumerate(X):\n",
    "    A = val\n",
    "    B = X_test[0]\n",
    "    nom = (A-B)**2\n",
    "    den = A+B\n",
    "    d = math.fsum(nom[den!=0]/den[den!=0])\n",
    "    print d\n",
    "#chisquare(I,X[0], axis=None)"
   ]
  }
 ],
 "metadata": {
  "kernelspec": {
   "display_name": "Python 2",
   "language": "python",
   "name": "python2"
  },
  "language_info": {
   "codemirror_mode": {
    "name": "ipython",
    "version": 2
   },
   "file_extension": ".py",
   "mimetype": "text/x-python",
   "name": "python",
   "nbconvert_exporter": "python",
   "pygments_lexer": "ipython2",
   "version": "2.7.11"
  }
 },
 "nbformat": 4,
 "nbformat_minor": 0
}
