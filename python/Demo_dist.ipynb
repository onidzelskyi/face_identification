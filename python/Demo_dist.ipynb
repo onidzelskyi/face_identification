{
 "cells": [
  {
   "cell_type": "code",
   "execution_count": null,
   "metadata": {
    "collapsed": false
   },
   "outputs": [],
   "source": [
    "# import modules\n",
    "\n",
    "# OpenCV\n",
    "import cv2\n",
    "\n",
    "# numpy\n",
    "import numpy as np\n",
    "\n",
    "# math\n",
    "import math\n",
    "\n",
    "# matplot\n",
    "from matplotlib import pyplot as plt\n",
    "%matplotlib inline\n",
    "\n",
    "# Align face\n",
    "apply_align_face = 1\n",
    "\n",
    "# LBP\n",
    "apply_lpb = 0"
   ]
  },
  {
   "cell_type": "code",
   "execution_count": null,
   "metadata": {
    "collapsed": true
   },
   "outputs": [],
   "source": [
    "# Align faces by eyes\n",
    "eye_detector = cv2.CascadeClassifier(\"/usr/local/share/OpenCV/haarcascades/haarcascade_eye.xml\")\n",
    "right_eye_detector = cv2.CascadeClassifier(\"/usr/local/share/OpenCV/haarcascades/haarcascade_mcs_righteye.xml\")\n",
    "left_eye_detector = cv2.CascadeClassifier(\"/usr/local/share/OpenCV/haarcascades/haarcascade_mcs_lefteye.xml\")\n",
    "\n",
    "# scale image\n",
    "align_scale = 1.5\n",
    "\n",
    "def align_face(I, (x,y,w,h), i, total):\n",
    "    # Extract face\n",
    "    face = I[y:y+h, x:x+w]\n",
    "    print \"I \", I.shape\n",
    "    # plot\n",
    "    fig = plt.figure(figsize=(15,150))\n",
    "    pos = i*5+1\n",
    "    plt.subplot(total, 5, pos)\n",
    "    plt.imshow(cv2.cvtColor(face, cv2.COLOR_GRAY2RGB))    \n",
    "    plt.axis(\"off\")\n",
    "\n",
    "    # \n",
    "    scaled_height = int(h*align_scale)\n",
    "    print \"Scaled height: \", scaled_height\n",
    "    \n",
    "    # 1. Create a canvas for the image\n",
    "    canvas = np.zeros(shape=(scaled_height, scaled_height), dtype=np.uint8)\n",
    "\n",
    "    print \"canvas.shape \", canvas.shape\n",
    "    \n",
    "    yt = int(y-math.floor((scaled_height-h)/2.))\n",
    "    yb = int(y+math.ceil((scaled_height-h)/2.)+h)\n",
    "    xl = int(x-math.floor((scaled_height-h)/2.))\n",
    "    xr = int(x+math.ceil((scaled_height-h)/2.)+h)\n",
    "\n",
    "    rt = 0\n",
    "    rb = math.ceil(h*align_scale)\n",
    "    cl = 0\n",
    "    cr = math.floor(w*align_scale)\n",
    "\n",
    "    if yt<0:\n",
    "        rt = -yt\n",
    "        yt = 0\n",
    "    if xl<0:\n",
    "        cl = -xl\n",
    "        xl = 0\n",
    "    if yb>I.shape[0]:\n",
    "        rb-= yb-I.shape[0]\n",
    "        yb = I.shape[0]\n",
    "    if xr>I.shape[1]:\n",
    "        cr-= xr-I.shape[1]\n",
    "        xr = I.shape[1]\n",
    "        \n",
    "    # 2. Copy image' fragment to canvas\n",
    "    print \"x, y, w, h\", x, y, w, h\n",
    "    print \"yt:yb, xl:xr\", yt, yb, xl, xr\n",
    "    print \"rt:rb, cl:cr\", rt, rb, cl, cr\n",
    "    canvas[rt:rb, cl:cr] = I[yt:yb, xl:xr]\n",
    "    cols, rows = canvas.shape\n",
    "\n",
    "    print \"canvas.shape, cols, rows, I.shape, type(I), type(canvas)\", canvas.shape, cols, rows, I.shape, type(I[0][0]), type(canvas[0][0])\n",
    "    \n",
    "    # plot\n",
    "    pos = i*5+2\n",
    "    plt.subplot(total, 5, pos)\n",
    "    plt.imshow(cv2.cvtColor(canvas, cv2.COLOR_GRAY2RGB))    \n",
    "    #plt.imshow(canvas)    \n",
    "    plt.axis(\"off\")\n",
    "    \n",
    "    # Detect eyes\n",
    "    left_eye = left_eye_detector.detectMultiScale(face)\n",
    "    right_eye = right_eye_detector.detectMultiScale(face)\n",
    "    eye = eye_detector.detectMultiScale(face)\n",
    "    print \"left_eye, right_eye, eye\", len(left_eye), len(right_eye), len(eye)\n",
    "    '''\n",
    "    for (ex,ey,ew,eh) in left_eye: \n",
    "        cv2.rectangle(face,(ex,ey),(ex+ew,ey+eh),(0,255,0),2)    \n",
    "        pos = i*5+3\n",
    "        plt.subplot(total, 5, pos)\n",
    "        plt.imshow(cv2.cvtColor(face, cv2.COLOR_GRAY2RGB))    \n",
    "        plt.axis(\"off\")\n",
    "'''\n",
    "\n",
    "    print \"left_eye: \", left_eye\n",
    "    print \"right_eye: \", right_eye    \n",
    "        \n",
    "    # Calc angle rotate\n",
    "    left_eye_center, right_eye_center = 0, 0\n",
    "    eyes = []\n",
    "    if len(eye)==2: eyes = eye\n",
    "    elif len(left_eye)==2: eyes = left_eye\n",
    "    elif len(right_eye)==2: eyes = right_eye\n",
    "    elif len(left_eye)>1: eyes = left_eye[:2]\n",
    "    elif len(right_eye)>1: eyes = right_eye[:2]\n",
    "    elif len(left_eye) and len(right_eye):\n",
    "        eyes.append(left_eye[0])\n",
    "        eyes.append(right_eye[0])\n",
    "\n",
    "    if len(eyes):\n",
    "        left_eye_center = ((eyes[0][0] + eyes[0][2])/2, (eyes[0][1] + eyes[0][3])/2, )\n",
    "        right_eye_center = ((eyes[1][0] + eyes[1][2])/2, (eyes[1][1] + eyes[1][3])/2, )\n",
    "\n",
    "    for (ex,ey,ew,eh) in eyes: \n",
    "        #cv2.rectangle(face,(ex,ey),(ex+ew,ey+eh),(0,255,0),2)    \n",
    "        pos = i*5+3\n",
    "        plt.subplot(total, 5, pos)\n",
    "        plt.imshow(cv2.cvtColor(face, cv2.COLOR_GRAY2RGB))    \n",
    "        plt.axis(\"off\")\n",
    "\n",
    "    if left_eye_center and right_eye_center:\n",
    "        print \"left_eye_center \", left_eye_center\n",
    "        print \"right_eye_center \", right_eye_center\n",
    "        dx = left_eye_center[0] - right_eye_center[0]\n",
    "        dy = left_eye_center[1] - right_eye_center[1]\n",
    "        cos_Theta = dx/((dx**2+dy**2)**.5)\n",
    "        rotation = -1\n",
    "        if cos_Theta>0: \n",
    "            rotation = 1\n",
    "        sin_Theta = dy/((dx**2+dy**2)**.5)\n",
    "        M = np.matrix([[rotation*cos_Theta, rotation*sin_Theta, (1-rotation*cos_Theta)*cols/2-rotation*sin_Theta*rows/2],[-rotation*sin_Theta, rotation*cos_Theta, rotation*sin_Theta*cols/2+(1-rotation*cos_Theta)/rows/2]])\n",
    "        print \"dx, dy\", dx, dy\n",
    "        print \"cos_Theta, sin_Theta\", cos_Theta, sin_Theta\n",
    "        print \"M \", M\n",
    "        degrees = math.degrees(math.acos(math.fabs(cos_Theta)))\n",
    "        print \"degrees \", degrees\n",
    "        #M = cv2.getRotationMatrix2D((cols/2,rows/2),degrees*rotation,1)\n",
    "        #print \"M \", M\n",
    "        dst = cv2.warpAffine(canvas,M,(cols,rows))\n",
    "\n",
    "        # plot\n",
    "        pos = i*5+4\n",
    "        plt.subplot(total, 5, pos)\n",
    "        plt.imshow(cv2.cvtColor(dst, cv2.COLOR_GRAY2RGB))    \n",
    "        plt.axis(\"off\")\n",
    "\n",
    "        # Extract aligned face\n",
    "        A = face_detector.detectMultiScale(dst, 1.3, 5)\n",
    "        if len(A):\n",
    "            face = dst[A[0][1]:A[0][1]+A[0][3], A[0][0]:A[0][0]+A[0][2]]\n",
    "\n",
    "        # plot\n",
    "        pos = i*5+5\n",
    "        plt.subplot(total, 5, pos)\n",
    "        plt.imshow(cv2.cvtColor(face, cv2.COLOR_GRAY2RGB))    \n",
    "        plt.axis(\"off\")\n",
    "    #else: face = None\n",
    "        \n",
    "    return face"
   ]
  },
  {
   "cell_type": "code",
   "execution_count": null,
   "metadata": {
    "collapsed": false
   },
   "outputs": [],
   "source": [
    "# Enter test images file names\n",
    "group_img = raw_input(\"Please, enter group image file name: \")\n",
    "single_img = raw_input(\"Please, enter single image file name: \")\n",
    "\n",
    "# or by default\n",
    "if group_img == \"\": group_img = \"../test/g3.jpg\"\n",
    "if single_img == \"\": single_img = \"../test/s3.jpg\"    "
   ]
  },
  {
   "cell_type": "code",
   "execution_count": null,
   "metadata": {
    "collapsed": true
   },
   "outputs": [],
   "source": [
    "# Read images files\n",
    "# G - image of group of people\n",
    "# S - image of a single person\n",
    "G = cv2.imread(group_img)\n",
    "S = cv2.imread(single_img)"
   ]
  },
  {
   "cell_type": "code",
   "execution_count": null,
   "metadata": {
    "collapsed": false
   },
   "outputs": [],
   "source": [
    "# plot group image\n",
    "fig = plt.figure(figsize=(15,15))\n",
    "plt.subplot(121)\n",
    "plt.imshow(cv2.cvtColor(G, cv2.COLOR_BGR2RGB))    \n",
    "plt.axis(\"off\")\n",
    "\n",
    "# plot single image\n",
    "plt.subplot(122)\n",
    "plt.imshow(cv2.cvtColor(S, cv2.COLOR_BGR2RGB))    \n",
    "plt.axis(\"off\")"
   ]
  },
  {
   "cell_type": "code",
   "execution_count": null,
   "metadata": {
    "collapsed": false
   },
   "outputs": [],
   "source": [
    "# Convert original RGB images to grayscale\n",
    "G_gray = cv2.cvtColor(G, cv2.COLOR_BGR2GRAY)\n",
    "S_gray = cv2.cvtColor(S, cv2.COLOR_BGR2GRAY)"
   ]
  },
  {
   "cell_type": "code",
   "execution_count": null,
   "metadata": {
    "collapsed": false
   },
   "outputs": [],
   "source": [
    "# plot group image\n",
    "fig = plt.figure(figsize=(15,15))\n",
    "plt.subplot(121)\n",
    "plt.imshow(cv2.cvtColor(G_gray, cv2.COLOR_GRAY2RGB))    \n",
    "plt.axis(\"off\")\n",
    "\n",
    "# plot single image\n",
    "plt.subplot(122)\n",
    "plt.imshow(cv2.cvtColor(S_gray, cv2.COLOR_GRAY2RGB))    \n",
    "plt.axis(\"off\")"
   ]
  },
  {
   "cell_type": "code",
   "execution_count": null,
   "metadata": {
    "collapsed": false
   },
   "outputs": [],
   "source": [
    "# Create face detector\n",
    "face_detector = cv2.CascadeClassifier(\"/usr/local/share/OpenCV/haarcascades/haarcascade_frontalface_alt.xml\")\n",
    "\n",
    "# Detect group faces\n",
    "G_faces = face_detector.detectMultiScale(G_gray, 1.3, 5)\n",
    "\n",
    "# Detect sigle faces\n",
    "S_faces = face_detector.detectMultiScale(S_gray, 1.3, 5)"
   ]
  },
  {
   "cell_type": "code",
   "execution_count": null,
   "metadata": {
    "collapsed": false
   },
   "outputs": [],
   "source": [
    "# check faces in group image\n",
    "for x,y,w,h in G_faces:\n",
    "    cv2.rectangle(G,(x,y),(x+w,y+h),(255,0,0),2)\n",
    "\n",
    "# check faces in single image\n",
    "for x,y,w,h in S_faces:\n",
    "    cv2.rectangle(S,(x,y),(x+w,y+h),(255,0,0),2)"
   ]
  },
  {
   "cell_type": "code",
   "execution_count": null,
   "metadata": {
    "collapsed": false
   },
   "outputs": [],
   "source": [
    "# plot group image\n",
    "fig = plt.figure(figsize=(15,15))\n",
    "plt.subplot(121)\n",
    "plt.imshow(cv2.cvtColor(G, cv2.COLOR_BGR2RGB))    \n",
    "plt.axis(\"off\")\n",
    "\n",
    "# plot single image\n",
    "plt.subplot(122)\n",
    "plt.imshow(cv2.cvtColor(S, cv2.COLOR_BGR2RGB))    \n",
    "plt.axis(\"off\")"
   ]
  },
  {
   "cell_type": "code",
   "execution_count": null,
   "metadata": {
    "collapsed": false
   },
   "outputs": [],
   "source": [
    "# Mean face size\n",
    "x_mean = int(math.floor(G_faces[:,3].mean()))"
   ]
  },
  {
   "cell_type": "code",
   "execution_count": null,
   "metadata": {
    "collapsed": false
   },
   "outputs": [],
   "source": [
    "# Create matrix \n",
    "X = np.zeros(shape=(G_faces.shape[0], x_mean**2))\n",
    "X_test = np.zeros(shape=(S_faces.shape[0], x_mean**2))"
   ]
  },
  {
   "cell_type": "markdown",
   "metadata": {},
   "source": [
    "<img src=\"rotation_matrix.png\"/>\n",
    "or\n",
    "<img src=\"affine_transformation_matrix.png\"/>"
   ]
  },
  {
   "cell_type": "code",
   "execution_count": null,
   "metadata": {
    "collapsed": false
   },
   "outputs": [],
   "source": [
    "# Align group faces\n",
    "for i,(x,y,w,h) in enumerate(G_faces):\n",
    "    # Extract face\n",
    "    img = G_gray[y:y+h, x:x+w]\n",
    "\n",
    "    # Align faces\n",
    "    if apply_align_face:\n",
    "        img = align_face(G_gray, (x,y,w,h), i, G_faces.shape[0])\n",
    "\n",
    "    # resize image\n",
    "    res = cv2.resize(img, (x_mean, x_mean), interpolation=cv2.INTER_CUBIC)\n",
    "\n",
    "    # LBP\n",
    "    radius = 3\n",
    "    n_points = 24\n",
    "    if apply_lpb: \n",
    "        from skimage.feature import local_binary_pattern\n",
    "        res = local_binary_pattern(res, n_points, radius, method=\"uniform\")\n",
    "\n",
    "    # Unfold matrix to vector\n",
    "    res1 = res.reshape(1, res.shape[0]*res.shape[1])\n",
    "\n",
    "    # Add image vector to the matrix\n",
    "    X[i,:] = res1"
   ]
  },
  {
   "cell_type": "code",
   "execution_count": null,
   "metadata": {
    "collapsed": false
   },
   "outputs": [],
   "source": [
    "# Align single face\n",
    "for i,(x,y,w,h) in enumerate(S_faces):\n",
    "    # Extract face\n",
    "    img = S_gray[y:y+h, x:x+w]\n",
    "\n",
    "    # Align faces\n",
    "    if apply_align_face:\n",
    "        img = align_face(S_gray, (x,y,w,h), i, S_faces.shape[0])\n",
    "    \n",
    "    # resize image\n",
    "    res = cv2.resize(img, (x_mean, x_mean), interpolation=cv2.INTER_CUBIC)\n",
    "\n",
    "    # LBP\n",
    "    if apply_lpb: \n",
    "        from skimage.feature import local_binary_pattern\n",
    "        res = local_binary_pattern(res, n_points, radius, method=\"uniform\")\n",
    "\n",
    "    # Unfold matrix to vector\n",
    "    res1 = res.reshape(1, res.shape[0]*res.shape[1])\n",
    "\n",
    "    # Add image vector to the matrix\n",
    "    X_test[i,:] = res1"
   ]
  },
  {
   "cell_type": "code",
   "execution_count": null,
   "metadata": {
    "collapsed": false
   },
   "outputs": [],
   "source": [
    "# Face indentification\n",
    "G = cv2.imread(group_img)\n",
    "S = cv2.imread(single_img)\n",
    "for i, I in enumerate(X_test):\n",
    "    D = X - I\n",
    "    N = np.linalg.norm(D**2, axis=-1)\n",
    "    idx = np.argmin(N)\n",
    "    (x,y,w,h) = G_faces[idx]\n",
    "    (xs,ys,ws,hs) = S_faces[i]\n",
    "    cv2.rectangle(G,(x,y),(x+w,y+h),(0,0,255),4)\n",
    "    cv2.rectangle(S,(xs,ys),(xs+ws,ys+hs),(0,0,255),4)\n",
    "\n",
    "# plot image\n",
    "fig = plt.figure(figsize=(15,15))\n",
    "plt.axis(\"off\")\n",
    "plt.imshow(cv2.cvtColor(G, cv2.COLOR_BGR2RGB))    "
   ]
  },
  {
   "cell_type": "code",
   "execution_count": null,
   "metadata": {
    "collapsed": false
   },
   "outputs": [],
   "source": [
    "print X[0].shape\n",
    "print I.shape\n",
    "print N\n",
    "print img[0,:10]"
   ]
  },
  {
   "cell_type": "code",
   "execution_count": null,
   "metadata": {
    "collapsed": false
   },
   "outputs": [],
   "source": [
    "import math\n",
    "for i, val in enumerate(X):\n",
    "    A = val\n",
    "    B = X_test[0]\n",
    "    nom = (A-B)**2\n",
    "    den = A+B\n",
    "    d = math.fsum(nom[den!=0]/den[den!=0])\n",
    "    print d\n",
    "#chisquare(I,X[0], axis=None)"
   ]
  }
 ],
 "metadata": {
  "kernelspec": {
   "display_name": "Python 3",
   "language": "python",
   "name": "python3"
  },
  "language_info": {
   "codemirror_mode": {
    "name": "ipython",
    "version": 3
   },
   "file_extension": ".py",
   "mimetype": "text/x-python",
   "name": "python",
   "nbconvert_exporter": "python",
   "pygments_lexer": "ipython3",
   "version": "3.4.3+"
  }
 },
 "nbformat": 4,
 "nbformat_minor": 0
}
