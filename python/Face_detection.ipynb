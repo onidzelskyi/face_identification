{
 "cells": [
  {
   "cell_type": "code",
   "execution_count": 2,
   "metadata": {
    "collapsed": true
   },
   "outputs": [],
   "source": [
    "from googleapiclient import discovery\n",
    "import httplib2\n",
    "from oauth2client.client import GoogleCredentials"
   ]
  },
  {
   "cell_type": "code",
   "execution_count": 3,
   "metadata": {
    "collapsed": true
   },
   "outputs": [],
   "source": [
    "DISCOVERY_URL='https://{api}.googleapis.com/$discovery/rest?version={apiVersion}'\n",
    "\n",
    "\n",
    "def get_vision_service():\n",
    "    credentials = GoogleCredentials.get_application_default()\n",
    "    return discovery.build('vision', 'v1', credentials=credentials,\n",
    "                           discoveryServiceUrl=DISCOVERY_URL)"
   ]
  },
  {
   "cell_type": "code",
   "execution_count": 25,
   "metadata": {
    "collapsed": true
   },
   "outputs": [],
   "source": [
    "import base64\n",
    "\n",
    "def detect_face(face_file, max_results=10):\n",
    "    \"\"\"Uses the Vision API to detect faces in the given file.\n",
    "\n",
    "    Args:\n",
    "        face_file: A file-like object containing an image with faces.\n",
    "\n",
    "    Returns:\n",
    "        An array of dicts with information about the faces in the picture.\n",
    "    \"\"\"\n",
    "    image_content = face_file.read()\n",
    "    batch_request = [{\n",
    "        'image': {\n",
    "            'content': base64.b64encode(image_content).decode('UTF-8')\n",
    "            },\n",
    "        'features': [{\n",
    "            'type': 'FACE_DETECTION',\n",
    "            'maxResults': max_results,\n",
    "            }]\n",
    "        }]\n",
    "\n",
    "    service = get_vision_service()\n",
    "    request = service.images().annotate(body={\n",
    "        'requests': batch_request,\n",
    "        })\n",
    "    response = request.execute()\n",
    "\n",
    "    return response['responses'][0]['faceAnnotations']"
   ]
  },
  {
   "cell_type": "code",
   "execution_count": 6,
   "metadata": {
    "collapsed": true
   },
   "outputs": [],
   "source": [
    "from PIL import Image, ImageDraw\n",
    "\n",
    "def highlight_faces(image, faces, output_filename):\n",
    "    \"\"\"Draws a polygon around the faces, then saves to output_filename.\n",
    "\n",
    "    Args:\n",
    "      image: a file containing the image with the faces.\n",
    "      faces: a list of faces found in the file. This should be in the format\n",
    "          returned by the Vision API.\n",
    "      output_filename: the name of the image file to be created, where the faces\n",
    "          have polygons drawn around them.\n",
    "    \"\"\"\n",
    "    im = Image.open(image)\n",
    "    draw = ImageDraw.Draw(im)\n",
    "\n",
    "    for face in faces:\n",
    "        box = [(v.get('x', 0.0), v.get('y', 0.0)) for v in face['fdBoundingPoly']['vertices']]\n",
    "        draw.line(box + [box[0]], width=5, fill='#00ff00')\n",
    "\n",
    "    del draw\n",
    "    im.save(output_filename)"
   ]
  },
  {
   "cell_type": "code",
   "execution_count": 6,
   "metadata": {
    "collapsed": true
   },
   "outputs": [],
   "source": [
    "from PIL import Image, ImageDraw\n",
    "import numpy as np\n",
    "\n",
    "def extract_faces(image, faces):\n",
    "    \"\"\"Extract faces from image.\n",
    "\n",
    "    Args:\n",
    "      image: a file containing the image with the faces.\n",
    "      faces: a list of faces found in the file. This should be in the format\n",
    "          returned by the Vision API.\n",
    "    Return array of faces\n",
    "    \"\"\"\n",
    "    arr = np.zeros()\n",
    "    I = Image.open(image)\n",
    "\n",
    "    for face in faces:\n",
    "        box = [(v.get('x', 0.0), v.get('y', 0.0)) for v in face['fdBoundingPoly']['vertices']]\n",
    "        Arr.line(box + [box[0]], width=5, fill='#00ff00')\n",
    "    \n",
    "    return arr"
   ]
  },
  {
   "cell_type": "code",
   "execution_count": 26,
   "metadata": {
    "collapsed": false
   },
   "outputs": [
    {
     "name": "stdout",
     "output_type": "stream",
     "text": [
      "Found 7 faces\n",
      "Writing to file /home/oleksii/Downloads/out.jpg\n"
     ]
    }
   ],
   "source": [
    "import os\n",
    "os.environ[\"GOOGLE_APPLICATION_CREDENTIALS\"] = \"/home/oleksii/Downloads/Google Cloud Vision-9785cb814b4e.json\"\n",
    "\n",
    "def main(input_filename, output_filename):\n",
    "    with open(input_filename, 'rb') as image:\n",
    "        faces = detect_face(image)\n",
    "        print('Found %s face%s' % (len(faces), '' if len(faces) == 1 else 's'))\n",
    "\n",
    "        print('Writing to file %s' % output_filename)\n",
    "        # Reset the file pointer, so we can read the file again\n",
    "        image.seek(0)\n",
    "        highlight_faces(image, faces, output_filename)"
   ]
  },
  {
   "cell_type": "code",
   "execution_count": 42,
   "metadata": {
    "collapsed": false
   },
   "outputs": [
    {
     "name": "stdout",
     "output_type": "stream",
     "text": [
      "Found 4 faces\n",
      "Writing to file /media/sf_host_dev/github/face_identification/test_out/g1.jpg\n",
      "Found 6 faces\n",
      "Writing to file /media/sf_host_dev/github/face_identification/test_out/g3.jpg\n",
      "Found 10 faces\n",
      "Writing to file /media/sf_host_dev/github/face_identification/test_out/g4.jpg\n",
      "Found 7 faces\n",
      "Writing to file /media/sf_host_dev/github/face_identification/test_out/g7.jpg\n",
      "Found 1 face\n",
      "Writing to file /media/sf_host_dev/github/face_identification/test_out/s1.jpg\n",
      "Found 1 face\n",
      "Writing to file /media/sf_host_dev/github/face_identification/test_out/s3.jpg\n",
      "Found 4 faces\n",
      "Writing to file /media/sf_host_dev/github/face_identification/test_out/s4.jpg\n",
      "Found 2 faces\n",
      "Writing to file /media/sf_host_dev/github/face_identification/test_out/s6.jpg\n",
      "Found 1 face\n",
      "Writing to file /media/sf_host_dev/github/face_identification/test_out/s7.jpg\n"
     ]
    }
   ],
   "source": [
    "from glob import iglob\n",
    "import os\n",
    "\n",
    "lst = iglob(\"/media/sf_host_dev/github/face_identification/test/*.jpg\")\n",
    "for l in lst:\n",
    "    in_dir = os.path.dirname(l)\n",
    "    out_dir = \"{}_out\".format(in_dir)\n",
    "    if not os.path.exists(out_dir):\n",
    "        os.makedirs(out_dir)\n",
    "    file_name = os.path.basename(l)\n",
    "    out_file_name = \"{}/{}\".format(out_dir, file_name)\n",
    "    main(l, out_file_name)"
   ]
  },
  {
   "cell_type": "code",
   "execution_count": 49,
   "metadata": {
    "collapsed": false
   },
   "outputs": [],
   "source": [
    "file = \"/media/sf_host_dev/github/face_identification/test/s7.jpg\"\n",
    "with open(file, \"rb\") as face_file:\n",
    "    image_content = face_file.read()\n",
    "    batch_request = [{\n",
    "        'image': {\n",
    "            'content': base64.b64encode(image_content).decode('UTF-8')\n",
    "            },\n",
    "        'features': [{\n",
    "            'type': 'FACE_DETECTION',\n",
    "            'maxResults': 10,\n",
    "            }]\n",
    "        }]\n",
    "\n",
    "    service = get_vision_service()\n",
    "    request = service.images().annotate(body={\n",
    "        'requests': batch_request,\n",
    "        })\n",
    "    response = request.execute()\n"
   ]
  },
  {
   "cell_type": "code",
   "execution_count": 50,
   "metadata": {
    "collapsed": false
   },
   "outputs": [
    {
     "data": {
      "text/plain": [
       "'{\"responses\": [{\"faceAnnotations\": [{\"joyLikelihood\": \"LIKELY\", \"rollAngle\": -1.4918807, \"underExposedLikelihood\": \"VERY_UNLIKELY\", \"tiltAngle\": -4.88615, \"angerLikelihood\": \"VERY_UNLIKELY\", \"panAngle\": 9.5356731, \"fdBoundingPoly\": {\"vertices\": [{\"y\": 1178, \"x\": 2525}, {\"y\": 1178, \"x\": 3571}, {\"y\": 2224, \"x\": 3571}, {\"y\": 2224, \"x\": 2525}]}, \"detectionConfidence\": 0.99962556, \"sorrowLikelihood\": \"VERY_UNLIKELY\", \"landmarks\": [{\"position\": {\"y\": 1513.1189, \"x\": 2859.5859, \"z\": -0.0058395704}, \"type\": \"LEFT_EYE\"}, {\"position\": {\"y\": 1506.6356, \"x\": 3272.2468, \"z\": 70.254463}, \"type\": \"RIGHT_EYE\"}, {\"position\": {\"y\": 1442.5811, \"x\": 2694.2473, \"z\": 11.156118}, \"type\": \"LEFT_OF_LEFT_EYEBROW\"}, {\"position\": {\"y\": 1432.7175, \"x\": 2985.8958, \"z\": -73.944435}, \"type\": \"RIGHT_OF_LEFT_EYEBROW\"}, {\"position\": {\"y\": 1423.5071, \"x\": 3187.6152, \"z\": -39.011433}, \"type\": \"LEFT_OF_RIGHT_EYEBROW\"}, {\"position\": {\"y\": 1403.416, \"x\": 3425.27, \"z\": 128.80548}, \"type\": \"RIGHT_OF_RIGHT_EYEBROW\"}, {\"position\": {\"y\": 1500.6857, \"x\": 3100.3784, \"z\": -57.075504}, \"type\": \"MIDPOINT_BETWEEN_EYES\"}, {\"position\": {\"y\": 1786.8591, \"x\": 3123.833, \"z\": -161.02556}, \"type\": \"NOSE_TIP\"}, {\"position\": {\"y\": 1933.2173, \"x\": 3102.3767, \"z\": -44.963638}, \"type\": \"UPPER_LIP\"}, {\"position\": {\"y\": 2065.376, \"x\": 3099.062, \"z\": -1.9899689}, \"type\": \"LOWER_LIP\"}, {\"position\": {\"y\": 1975.7693, \"x\": 2860.417, \"z\": 58.032322}, \"type\": \"MOUTH_LEFT\"}, {\"position\": {\"y\": 1974.6191, \"x\": 3290.2129, \"z\": 114.00823}, \"type\": \"MOUTH_RIGHT\"}, {\"position\": {\"y\": 1994.0281, \"x\": 3102.1641, \"z\": -7.2184424}, \"type\": \"MOUTH_CENTER\"}, {\"position\": {\"y\": 1792.2651, \"x\": 3220.08, \"z\": 32.452015}, \"type\": \"NOSE_BOTTOM_RIGHT\"}, {\"position\": {\"y\": 1804.3865, \"x\": 2972.6262, \"z\": -10.553407}, \"type\": \"NOSE_BOTTOM_LEFT\"}, {\"position\": {\"y\": 1847.5884, \"x\": 3096.0718, \"z\": -54.238628}, \"type\": \"NOSE_BOTTOM_CENTER\"}, {\"position\": {\"y\": 1500.4811, \"x\": 2862.2764, \"z\": -31.240297}, \"type\": \"LEFT_EYE_TOP_BOUNDARY\"}, {\"position\": {\"y\": 1525.8817, \"x\": 2960.5371, \"z\": 16.850874}, \"type\": \"LEFT_EYE_RIGHT_CORNER\"}, {\"position\": {\"y\": 1542.6487, \"x\": 2854.6909, \"z\": -1.7803924}, \"type\": \"LEFT_EYE_BOTTOM_BOUNDARY\"}, {\"position\": {\"y\": 1526.8889, \"x\": 2760.166, \"z\": 26.333414}, \"type\": \"LEFT_EYE_LEFT_CORNER\"}, {\"position\": {\"y\": 1528.991, \"x\": 2853.4507, \"z\": -12.671625}, \"type\": \"LEFT_EYE_PUPIL\"}, {\"position\": {\"y\": 1483.4968, \"x\": 3292.4641, \"z\": 40.818829}, \"type\": \"RIGHT_EYE_TOP_BOUNDARY\"}, {\"position\": {\"y\": 1507.6194, \"x\": 3367.9277, \"z\": 126.49586}, \"type\": \"RIGHT_EYE_RIGHT_CORNER\"}, {\"position\": {\"y\": 1535.1016, \"x\": 3284.7766, \"z\": 70.467323}, \"type\": \"RIGHT_EYE_BOTTOM_BOUNDARY\"}, {\"position\": {\"y\": 1517.7815, \"x\": 3202.3679, \"z\": 59.857185}, \"type\": \"RIGHT_EYE_LEFT_CORNER\"}, {\"position\": {\"y\": 1512.1542, \"x\": 3295.3672, \"z\": 61.200123}, \"type\": \"RIGHT_EYE_PUPIL\"}, {\"position\": {\"y\": 1378.6643, \"x\": 2844.7136, \"z\": -67.744911}, \"type\": \"LEFT_EYEBROW_UPPER_MIDPOINT\"}, {\"position\": {\"y\": 1359.9325, \"x\": 3311.8403, \"z\": 10.359661}, \"type\": \"RIGHT_EYEBROW_UPPER_MIDPOINT\"}, {\"position\": {\"y\": 1714.3782, \"x\": 2497.7478, \"z\": 505.02536}, \"type\": \"LEFT_EAR_TRAGION\"}, {\"position\": {\"y\": 1670.926, \"x\": 3477.9045, \"z\": 668.1087}, \"type\": \"RIGHT_EAR_TRAGION\"}, {\"position\": {\"y\": 1419.7611, \"x\": 3088.5623, \"z\": -74.161957}, \"type\": \"FOREHEAD_GLABELLA\"}, {\"position\": {\"y\": 2263.4761, \"x\": 3096.8347, \"z\": 74.810966}, \"type\": \"CHIN_GNATHION\"}, {\"position\": {\"y\": 2001.2644, \"x\": 2583.613, \"z\": 360.98605}, \"type\": \"CHIN_LEFT_GONION\"}, {\"position\": {\"y\": 1965.7885, \"x\": 3467.5044, \"z\": 509.07141}, \"type\": \"CHIN_RIGHT_GONION\"}], \"landmarkingConfidence\": 0.7512759, \"boundingPoly\": {\"vertices\": [{\"y\": 722, \"x\": 2281}, {\"y\": 722, \"x\": 3735}, {\"y\": 2413, \"x\": 3735}, {\"y\": 2413, \"x\": 2281}]}, \"surpriseLikelihood\": \"VERY_UNLIKELY\", \"headwearLikelihood\": \"VERY_UNLIKELY\", \"blurredLikelihood\": \"VERY_UNLIKELY\"}]}]}'"
      ]
     },
     "execution_count": 50,
     "metadata": {},
     "output_type": "execute_result"
    }
   ],
   "source": [
    "import json\n",
    "\n",
    "json.dumps(response)"
   ]
  },
  {
   "cell_type": "code",
   "execution_count": null,
   "metadata": {
    "collapsed": true
   },
   "outputs": [],
   "source": [
    "G_file = \"/media/sf_host_dev/github/face_identification/test/g7.jpg\"\n",
    "S_file = \"/media/sf_host_dev/github/face_identification/test/s7.jpg\"\n",
    "\n"
   ]
  }
 ],
 "metadata": {
  "kernelspec": {
   "display_name": "Python 3",
   "language": "python",
   "name": "python3"
  },
  "language_info": {
   "codemirror_mode": {
    "name": "ipython",
    "version": 3
   },
   "file_extension": ".py",
   "mimetype": "text/x-python",
   "name": "python",
   "nbconvert_exporter": "python",
   "pygments_lexer": "ipython3",
   "version": "3.4.3+"
  }
 },
 "nbformat": 4,
 "nbformat_minor": 0
}
